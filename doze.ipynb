{
 "cells": [
  {
   "cell_type": "markdown",
   "id": "621995b2-364f-4f74-91e8-8bc242e31963",
   "metadata": {},
   "source": [
    "### #1 Importações e Configuração Inicial\n",
    "\n",
    "- **Objetivo:** Configurar o ambiente e preparar os caminhos para os datasets.\n",
    "- **Componentes principais:**\n",
    "  - Importação de bibliotecas essenciais, incluindo PyTorch e NumPy.\n",
    "  - Configuração do dispositivo (CPU ou GPU).\n",
    "  - Definição dos caminhos para os datasets anormais e normais.\n",
    "- **Importante:** Certificar-se de que os arquivos `.npy` existem nos caminhos especificados.\n"
   ]
  },
  {
   "cell_type": "code",
   "execution_count": 1,
   "id": "954d3701-85b4-4abb-930d-21097352a5a3",
   "metadata": {},
   "outputs": [
    {
     "name": "stdout",
     "output_type": "stream",
     "text": [
      "Usando dispositivo: cuda\n"
     ]
    }
   ],
   "source": [
    "#1\n",
    "import os\n",
    "import numpy as np\n",
    "import torch\n",
    "import torch.nn as nn\n",
    "import torch.nn.functional as F\n",
    "from torch.utils.data import DataLoader, TensorDataset\n",
    "from tqdm import tqdm\n",
    "\n",
    "# Configuração de dispositivo\n",
    "device = torch.device(\"cuda\" if torch.cuda.is_available() else \"cpu\")\n",
    "print(f\"Usando dispositivo: {device}\")\n",
    "\n",
    "# Caminhos para os datasets\n",
    "path_abnormal = \"/home/thalles.fontainha/dataset/OAI-MRI-3DDESS/abnormal-3DESS-128-64.npy\"\n",
    "path_normal = \"/home/thalles.fontainha/dataset/OAI-MRI-3DDESS/normal-3DESS-128-64.npy\"\n"
   ]
  },
  {
   "cell_type": "markdown",
   "id": "f43f781c-bf6c-4197-8f3d-845eab6855ba",
   "metadata": {},
   "source": [
    "### #2 Carregamento e Normalização dos Dados\n",
    "\n",
    "- **Objetivo:** Carregar os dados volumétricos e normalizá-los para melhorar o desempenho do modelo.\n",
    "- **Etapas realizadas:**\n",
    "  1. **Carregamento dos dados:** Os datasets anormais e normais são carregados dos arquivos `.npy` utilizando `mmap_mode='r'` para leitura eficiente.\n",
    "  2. **Normalização:** Cada dataset é normalizado pela fórmula `(dados - média) / desvio padrão` para garantir que os valores fiquem centrados.\n",
    "  3. **Visualização:** Os formatos dos datasets são exibidos para confirmar as dimensões.\n",
    "- **Importante:** Certificar-se de que os arquivos carregados correspondem aos formatos esperados.\n"
   ]
  },
  {
   "cell_type": "code",
   "execution_count": 2,
   "id": "37ca0b08-de52-4993-a6c6-4eea3d4ca165",
   "metadata": {},
   "outputs": [
    {
     "name": "stdout",
     "output_type": "stream",
     "text": [
      "Carregando os datasets...\n",
      "Normalizando os datasets...\n",
      "Formato do dataset abnormal: (1317, 128, 128, 64)\n",
      "Formato do dataset normal: (1659, 128, 128, 64)\n"
     ]
    }
   ],
   "source": [
    "#2\n",
    "# Carregar os dados\n",
    "print(\"Carregando os datasets...\")\n",
    "abnormal_data = np.load(path_abnormal, mmap_mode='r')\n",
    "normal_data = np.load(path_normal, mmap_mode='r')\n",
    "\n",
    "# Normalizar os dados\n",
    "print(\"Normalizando os datasets...\")\n",
    "abnormal_mean, abnormal_std = np.mean(abnormal_data), np.std(abnormal_data)\n",
    "normal_mean, normal_std = np.mean(normal_data), np.std(normal_data)\n",
    "abnormal_normalized = (abnormal_data - abnormal_mean) / abnormal_std\n",
    "normal_normalized = (normal_data - normal_mean) / normal_std\n",
    "\n",
    "# Mostrar formatos\n",
    "print(f\"Formato do dataset abnormal: {abnormal_data.shape}\")\n",
    "print(f\"Formato do dataset normal: {normal_data.shape}\")\n"
   ]
  },
  {
   "cell_type": "markdown",
   "id": "074978f9-830b-4024-b2bf-cec1cbe7999b",
   "metadata": {},
   "source": [
    "- **Output:**\n",
    "  - \"Carregando os datasets...\"\n",
    "  - \"Normalizando os datasets...\"\n",
    "  - Formato do dataset abnormal: `(1317, 128, 128, 64)`\n",
    "  - Formato do dataset normal: `(1659, 128, 128, 64)`\n",
    "- **Resumo:** Os dados foram carregados e normalizados com sucesso, apresentando as dimensões esperadas."
   ]
  },
  {
   "cell_type": "markdown",
   "id": "245262e6-b6d9-4c74-9e2a-35975baf8f00",
   "metadata": {},
   "source": [
    "### #3 Redução do Dataset e Criação de Labels\n",
    "\n",
    "- **Objetivo:** Reduzir o tamanho do dataset para evitar erros de **Out Of Memory (OOM)** durante o treinamento.\n",
    "  - **OOM (Out Of Memory):** Erro causado pela insuficiência de memória para armazenar ou processar dados em GPU ou RAM.\n",
    "\n",
    "- **Etapas Realizadas:**\n",
    "  - Seleção de 500 amostras de cada classe (`abnormal` e `normal`) para evitar sobrecarga de memória.\n",
    "  - Criação de labels:\n",
    "    - `0` para dados `abnormal`.\n",
    "    - `1` para dados `normal`.\n",
    "  - Concatenação de dados e labels."
   ]
  },
  {
   "cell_type": "code",
   "execution_count": 3,
   "id": "93a78678-6965-46af-bd8e-0f1f070b03b2",
   "metadata": {},
   "outputs": [
    {
     "name": "stdout",
     "output_type": "stream",
     "text": [
      "Reduzindo tamanho do dataset para evitar OOM...\n",
      "Tamanho final do dataset: (1000, 128, 128, 64)\n",
      "Tamanho dos labels: torch.Size([1000])\n"
     ]
    }
   ],
   "source": [
    "#3\n",
    "# Usar subconjuntos do dataset para evitar estouro de memória\n",
    "print(\"Reduzindo tamanho do dataset para evitar OOM...\")\n",
    "abnormal_sampled = abnormal_normalized[:500]\n",
    "normal_sampled = normal_normalized[:500]\n",
    "\n",
    "# Criar labels\n",
    "abnormal_labels = torch.zeros(len(abnormal_sampled))\n",
    "normal_labels = torch.ones(len(normal_sampled))\n",
    "\n",
    "# Concatenar dados e labels\n",
    "data = np.concatenate((abnormal_sampled, normal_sampled), axis=0)\n",
    "labels = torch.cat((abnormal_labels, normal_labels), dim=0)\n",
    "\n",
    "print(f\"Tamanho final do dataset: {data.shape}\")\n",
    "print(f\"Tamanho dos labels: {labels.shape}\")\n"
   ]
  },
  {
   "cell_type": "markdown",
   "id": "84298e13-783b-496f-a712-c4702268880e",
   "metadata": {},
   "source": [
    "- **Output:**\n",
    "  - \"Reduzindo tamanho do dataset para evitar OOM...\"\n",
    "  - Tamanho final do dataset: `(1000, 128, 128, 64)`\n",
    "  - Tamanho dos labels: `torch.Size([1000])`\n",
    "\n",
    "- **Resumo:** O dataset foi reduzido e preparado com sucesso para treinamento, com tamanho controlado para evitar problemas de memória."
   ]
  },
  {
   "cell_type": "markdown",
   "id": "97eee654-8aea-46d5-8356-df94484d807d",
   "metadata": {},
   "source": [
    "### #4 Criação do DataLoader\n",
    "\n",
    "- **Objetivo:** Preparar os dados para o treinamento do modelo, organizando-os em batches para processamento eficiente.\n",
    "\n",
    "- **Etapas Realizadas:**\n",
    "  - Conversão dos dados em tensores PyTorch com tipo `float32`.\n",
    "  - Criação do `TensorDataset` para associar os dados às labels.\n",
    "  - Configuração do `DataLoader` com:\n",
    "    - **Batch size:** 16.\n",
    "    - **Shuffle:** Ativado para misturar os dados a cada época.\n"
   ]
  },
  {
   "cell_type": "code",
   "execution_count": 4,
   "id": "5e863871-7e78-4a6c-8f42-1ac67cd5b5ef",
   "metadata": {},
   "outputs": [
    {
     "name": "stdout",
     "output_type": "stream",
     "text": [
      "Criando DataLoader...\n"
     ]
    }
   ],
   "source": [
    "#4\n",
    "# Criar o DataLoader\n",
    "print(\"Criando DataLoader...\")\n",
    "tensor_dataset = TensorDataset(torch.tensor(data, dtype=torch.float32), labels)\n",
    "data_loader = DataLoader(tensor_dataset, batch_size=16, shuffle=True)\n"
   ]
  },
  {
   "cell_type": "markdown",
   "id": "d0cb4509-413b-4483-bcdb-4056e32d7863",
   "metadata": {},
   "source": [
    "- **Output:**\n",
    "  - \"Criando DataLoader...\"\n",
    "\n",
    "- **Resumo:** O `DataLoader` foi configurado para carregar os dados em batches de tamanho 16, prontos para treinamento."
   ]
  },
  {
   "cell_type": "markdown",
   "id": "b9c6e0f7-4793-4c93-a15d-b3876cb37e0f",
   "metadata": {},
   "source": [
    "### #5 Definir o Modelo CNN\n",
    "\n",
    "- **Objetivo:** Implementar um modelo de rede neural convolucional (CNN) para realizar a classificação binária nos dados volumétricos.\n",
    "\n",
    "- **Detalhes do Modelo:**\n",
    "  - **Camadas Convolucionais (Conv3d):**\n",
    "    - **conv1:** 1 canal de entrada → 16 filtros.\n",
    "    - **conv2:** 16 canais de entrada → 32 filtros.\n",
    "    - Ambos com kernel de tamanho `(3, 3, 3)` para capturar padrões tridimensionais.\n",
    "  - **Funções de Ativação:**\n",
    "    - ReLU (Rectified Linear Unit) após cada camada convolucional.\n",
    "  - **Pooling:**\n",
    "    - MaxPool3d para redução de dimensionalidade, com kernel `(2, 2, 2)`.\n",
    "  - **Camadas Totalmente Conectadas (Fully Connected):**\n",
    "    - `fc1`: Conecta a saída convolucional (32 * 30 * 30 * 14) a 64 neurônios intermediários.\n",
    "    - `fc2`: Conecta os 64 neurônios a 2 saídas para classificação binária.\n",
    "\n",
    "- **Etapas Realizadas:**\n",
    "  - Modelo definido com a classe `SimpleCNN`.\n",
    "  - Inicialização do modelo e envio para o dispositivo configurado (CPU/GPU).\n"
   ]
  },
  {
   "cell_type": "code",
   "execution_count": 5,
   "id": "9c5593fc-c6ad-43aa-a657-4a1d1f8be413",
   "metadata": {},
   "outputs": [
    {
     "name": "stdout",
     "output_type": "stream",
     "text": [
      "Modelo criado e movido para o dispositivo.\n"
     ]
    }
   ],
   "source": [
    "#5\n",
    "# Definir o modelo CNN\n",
    "class SimpleCNN(nn.Module):\n",
    "    def __init__(self):\n",
    "        super(SimpleCNN, self).__init__()\n",
    "        self.conv1 = nn.Conv3d(1, 16, kernel_size=(3, 3, 3))  # Reduzir filtros\n",
    "        self.relu1 = nn.ReLU()\n",
    "        self.pool1 = nn.MaxPool3d(kernel_size=(2, 2, 2))\n",
    "        self.conv2 = nn.Conv3d(16, 32, kernel_size=(3, 3, 3))  # Reduzir filtros\n",
    "        self.relu2 = nn.ReLU()\n",
    "        self.pool2 = nn.MaxPool3d(kernel_size=(2, 2, 2))\n",
    "        self.flatten = nn.Flatten()\n",
    "        self.fc1 = nn.Linear(32 * 30 * 30 * 14, 64)  # Ajustar dimensões\n",
    "        self.relu3 = nn.ReLU()\n",
    "        self.fc2 = nn.Linear(64, 2)  # Saída binária\n",
    "\n",
    "    def forward(self, x):\n",
    "        x = self.conv1(x)\n",
    "        x = self.relu1(x)\n",
    "        x = self.pool1(x)\n",
    "        x = self.conv2(x)\n",
    "        x = self.relu2(x)\n",
    "        x = self.pool2(x)\n",
    "        x = self.flatten(x)\n",
    "        x = self.fc1(x)\n",
    "        x = self.relu3(x)\n",
    "        x = self.fc2(x)\n",
    "        return x\n",
    "\n",
    "# Inicializar o modelo\n",
    "model = SimpleCNN().to(device)\n",
    "print(\"Modelo criado e movido para o dispositivo.\")\n"
   ]
  },
  {
   "cell_type": "markdown",
   "id": "bb1e5705-a7b5-41fa-9284-70e7feefe252",
   "metadata": {},
   "source": [
    "- **Output:**\n",
    "  - \"Modelo criado e movido para o dispositivo.\"\n",
    "\n",
    "- **Resumo:** Um modelo CNN simples foi definido, configurado para processar dados volumétricos e classificar em duas categorias."
   ]
  },
  {
   "cell_type": "code",
   "execution_count": null,
   "id": "e61b62b6-983e-4f1f-ad63-5e69cfac6e82",
   "metadata": {},
   "outputs": [],
   "source": []
  },
  {
   "cell_type": "markdown",
   "id": "9f3e739c-e0d0-4c81-a9b5-812935160780",
   "metadata": {},
   "source": [
    "### #6 Configurar Perda e Otimizador\n",
    "\n",
    "- **Objetivo:** Configurar as funções de perda e o otimizador para treinar o modelo.\n",
    "\n",
    "- **Detalhes:**\n",
    "  - **Função de Perda:**\n",
    "    - `CrossEntropyLoss`: Usada para problemas de classificação multiclasse ou binária.\n",
    "    - Calcula a diferença entre as predições do modelo e os rótulos verdadeiros.\n",
    "  - **Otimizador:**\n",
    "    - `Adam` (Adaptive Moment Estimation):\n",
    "      - Taxa de aprendizado (`lr`): 0.001.\n",
    "      - Combina os benefícios de métodos como RMSProp e SGD com momentum.\n",
    "\n",
    "- **Etapas Realizadas:**\n",
    "  - Inicialização da função de perda.\n",
    "  - Configuração do otimizador com os parâmetros do modelo.\n",
    "\n",
    "- **Resumo:** Esta etapa define como o modelo ajustará seus parâmetros para minimizar os erros durante o treinamento.\n"
   ]
  },
  {
   "cell_type": "code",
   "execution_count": 6,
   "id": "4d2c2dd8-9716-4c1d-acab-3cb7383717ee",
   "metadata": {},
   "outputs": [],
   "source": [
    "#6\n",
    "# Configurar perda e otimizador\n",
    "criterion = nn.CrossEntropyLoss()\n",
    "optimizer = torch.optim.Adam(model.parameters(), lr=0.001)\n"
   ]
  },
  {
   "cell_type": "markdown",
   "id": "e8e432ab-cd47-48c6-aa72-d302d874be05",
   "metadata": {},
   "source": [
    "### #7 Função de Treinamento do Modelo\n",
    "\n",
    "- **Objetivo:** Treinar o modelo CNN utilizando os dados fornecidos pelo `DataLoader`.\n",
    "\n",
    "- **Detalhes:**\n",
    "  - A função percorre múltiplas épocas (`num_epochs`) para ajustar os pesos do modelo.\n",
    "  - **Etapas do Treinamento:**\n",
    "    1. **Preparação dos Dados:** Os dados e rótulos são ajustados para incluir a dimensão do canal e movidos para o dispositivo GPU, se disponível.\n",
    "    2. **Cálculo da Perda:**\n",
    "       - O modelo faz predições usando os dados de entrada.\n",
    "       - A perda é calculada comparando as predições com os rótulos verdadeiros utilizando a função `criterion`.\n",
    "    3. **Ajuste dos Pesos:**\n",
    "       - O otimizador ajusta os pesos do modelo com base no gradiente calculado da perda.\n",
    "    4. **Monitoramento do Progresso:**\n",
    "       - A barra de progresso (`tqdm`) exibe o avanço do treinamento por época e batch.\n",
    "       - A perda média é exibida ao final de cada época para acompanhar o desempenho.\n",
    "\n",
    "- **Parâmetros:**\n",
    "  - `model`: O modelo CNN definido.\n",
    "  - `data_loader`: Fornece os dados em batches para o treinamento.\n",
    "  - `criterion`: Função de perda (`CrossEntropyLoss`).\n",
    "  - `optimizer`: Otimizador configurado (`Adam`).\n",
    "  - `num_epochs`: Número de épocas de treinamento (padrão: 5).\n",
    "\n",
    "- **Resumo:** Esta etapa treina o modelo ajustando seus parâmetros para minimizar a perda, enquanto avalia a média da perda por época para monitoramento.\n"
   ]
  },
  {
   "cell_type": "code",
   "execution_count": 7,
   "id": "fd7f86f0-d573-4b39-8729-2ec95d00f33b",
   "metadata": {},
   "outputs": [
    {
     "name": "stdout",
     "output_type": "stream",
     "text": [
      "[INFO] Iniciando treinamento...\n",
      "\n",
      "Época     Perda Média    Tempo (s) \n",
      "-----------------------------------\n"
     ]
    },
    {
     "name": "stderr",
     "output_type": "stream",
     "text": [
      "\n",
      "reinando Época 1/5: 100%|██████████| 63/63 [00:07<00:00,  8.27batch/s]"
     ]
    },
    {
     "name": "stdout",
     "output_type": "stream",
     "text": [
      "1         2.9322         7.63      \n"
     ]
    },
    {
     "name": "stderr",
     "output_type": "stream",
     "text": [
      "\n",
      "reinando Época 2/5: 100%|██████████| 63/63 [00:06<00:00,  9.05batch/s]"
     ]
    },
    {
     "name": "stdout",
     "output_type": "stream",
     "text": [
      "2         0.6956         6.96      \n"
     ]
    },
    {
     "name": "stderr",
     "output_type": "stream",
     "text": [
      "\n",
      "reinando Época 3/5: 100%|██████████| 63/63 [00:07<00:00,  8.97batch/s]"
     ]
    },
    {
     "name": "stdout",
     "output_type": "stream",
     "text": [
      "3         0.6948         7.03      \n"
     ]
    },
    {
     "name": "stderr",
     "output_type": "stream",
     "text": [
      "\n",
      "reinando Época 4/5: 100%|██████████| 63/63 [00:06<00:00,  9.02batch/s]"
     ]
    },
    {
     "name": "stdout",
     "output_type": "stream",
     "text": [
      "4         0.6942         6.99      \n"
     ]
    },
    {
     "name": "stderr",
     "output_type": "stream",
     "text": [
      "Treinando Época 5/5: 100%|██████████| 63/63 [00:07<00:00,  8.98batch/s]"
     ]
    },
    {
     "name": "stdout",
     "output_type": "stream",
     "text": [
      "5         0.6938         7.02      \n",
      "\n",
      "[INFO] Treinamento concluído!\n"
     ]
    },
    {
     "name": "stderr",
     "output_type": "stream",
     "text": [
      "\n"
     ]
    }
   ],
   "source": [
    "#7 Função de treinamento com saída aprimorada\n",
    "def treinar_modelo(model, data_loader, criterion, optimizer, num_epochs=5):\n",
    "    model.train()\n",
    "    print(\"[INFO] Iniciando treinamento...\\n\")\n",
    "    print(f\"{'Época':<10}{'Perda Média':<15}{'Tempo (s)':<10}\")\n",
    "    print(\"-\" * 35)\n",
    "\n",
    "    for epoch in range(num_epochs):\n",
    "        epoch_loss = 0\n",
    "        epoch_start_time = time.time()  # Início do cronômetro\n",
    "        for inputs, labels in tqdm(data_loader, desc=f\"Treinando Época {epoch+1}/{num_epochs}\", unit=\"batch\"):\n",
    "            # Adicionar dimensão de canal e mover para GPU\n",
    "            inputs, labels = inputs.unsqueeze(1).to(device), labels.to(device)\n",
    "            optimizer.zero_grad()\n",
    "            outputs = model(inputs)\n",
    "            loss = criterion(outputs, labels.long())\n",
    "            loss.backward()\n",
    "            optimizer.step()\n",
    "            epoch_loss += loss.item()\n",
    "        # Calcular tempo de execução por época\n",
    "        epoch_time = time.time() - epoch_start_time\n",
    "        print(f\"{epoch+1:<10}{epoch_loss / len(data_loader):<15.4f}{epoch_time:<10.2f}\")\n",
    "\n",
    "    print(\"\\n[INFO] Treinamento concluído!\")\n",
    "\n",
    "# Iniciar treinamento\n",
    "import time  # Para medir o tempo de execução\n",
    "treinar_modelo(model, data_loader, criterion, optimizer)\n"
   ]
  },
  {
   "cell_type": "markdown",
   "id": "773c868a-1310-4d48-9e5c-889d3062d373",
   "metadata": {},
   "source": [
    "### Resultados do Treinamento do Modelo (#7)\n",
    "\n",
    "- **Resumo dos Resultados:**\n",
    "  - O treinamento foi executado em 5 épocas.\n",
    "  - A perda média diminuiu ao longo das épocas, indicando que o modelo está aprendendo a ajustar seus pesos para minimizar a diferença entre as predições e os rótulos verdadeiros.\n",
    "\n",
    "- **Interpretação:**\n",
    "  - A diminuição da perda média ao longo das épocas sugere que o modelo está aprendendo a classificar melhor os dados.\n",
    "  - No entanto, uma perda média estabilizada em torno de 0.6 pode indicar a necessidade de ajustes adicionais no modelo, como:\n",
    "    - Alteração na arquitetura da CNN.\n",
    "    - Ajuste nos hiperparâmetros (ex.: taxa de aprendizado).\n",
    "    - Coleta de mais dados ou técnicas de augmentação para melhorar a generalização.\n",
    "\n",
    "- **Próximos Passos:**\n",
    "  - Avaliar a acurácia e outras métricas nos dados de validação/teste para medir o desempenho real do modelo.\n",
    "  - Testar técnicas avançadas, como fine-tuning de redes mais profundas, para aprimorar os resultados."
   ]
  },
  {
   "cell_type": "code",
   "execution_count": null,
   "id": "dd2c0e61-d24e-448e-925a-fe88c723ead4",
   "metadata": {},
   "outputs": [],
   "source": []
  },
  {
   "cell_type": "markdown",
   "id": "db7ab329-d6c1-4418-8e81-c6386ca0e746",
   "metadata": {},
   "source": [
    "### Visualização de Predições do Modelo (#8)\n",
    "\n",
    "- **Objetivo:**\n",
    "  - Mostrar as predições do modelo para as primeiras 6 imagens de um lote.\n",
    "  - Comparar os rótulos reais (Real) com as predições feitas pelo modelo (Pred).\n",
    "\n",
    "- **Descrição do Código:**\n",
    "  - **Modo de Avaliação:** O modelo é colocado em modo de avaliação (`model.eval()`), garantindo que não ocorram atualizações de gradiente durante as predições.\n",
    "  - **Predições:**\n",
    "    - Os dados são ajustados para incluir a dimensão do canal (`inputs.unsqueeze(1)`).\n",
    "    - Para cada lote, o modelo faz predições usando `torch.max` para determinar a classe com maior probabilidade.\n",
    "  - **Visualização:**\n",
    "    - Apenas as primeiras 6 imagens do lote são exibidas.\n",
    "    - Cada imagem mostra:\n",
    "      - A fatia intermediária do volume de entrada.\n",
    "      - O rótulo real e a predição correspondente."
   ]
  },
  {
   "cell_type": "code",
   "execution_count": 8,
   "id": "1efc1a13-f81c-41ae-a437-7307fe2f72b6",
   "metadata": {},
   "outputs": [
    {
     "name": "stdout",
     "output_type": "stream",
     "text": [
      "\n",
      "[INFO] Visualizando predições das primeiras 6 imagens...\n",
      "[DEBUG] Dimensões dos dados de entrada: torch.Size([16, 1, 128, 128, 64])\n"
     ]
    },
    {
     "data": {
      "image/png": "[encoded data removed]",
      "text/plain": [
       "<Figure size 1200x400 with 6 Axes>"
      ]
     },
     "metadata": {},
     "output_type": "display_data"
    }
   ],
   "source": [
    "#8 - Visualizar as primeiras 6 imagens com predições\n",
    "\n",
    "import matplotlib.pyplot as plt  # Importar matplotlib para visualização\n",
    "\n",
    "print(\"\\n[INFO] Visualizando predições das primeiras 6 imagens...\")\n",
    "\n",
    "model.eval()  # Colocar o modelo em modo de avaliação\n",
    "\n",
    "with torch.no_grad():\n",
    "    for inputs, labels in data_loader:\n",
    "        # Adicionar dimensão de canal para o tensor de entrada\n",
    "        inputs = inputs.unsqueeze(1).to(device)  # Adicionar canal\n",
    "        labels = labels.to(device)\n",
    "        \n",
    "        # Fazer predições\n",
    "        outputs = model(inputs)\n",
    "        _, predicted = torch.max(outputs, 1)\n",
    "        \n",
    "        # Verificar dimensões\n",
    "        print(f\"[DEBUG] Dimensões dos dados de entrada: {inputs.shape}\")\n",
    "        \n",
    "        # Obter índice da fatia intermediária\n",
    "        slice_idx = min(inputs.shape[4] // 2, inputs.shape[4] - 1)  # Garantir índice válido\n",
    "        \n",
    "        # Plotar as primeiras 6 imagens\n",
    "        plt.figure(figsize=(12, 4))\n",
    "        for i in range(min(6, inputs.shape[0])):  # Garantir que não ultrapasse o batch size\n",
    "            plt.subplot(1, 6, i + 1)\n",
    "            # Acessar a fatia intermediária do volume\n",
    "            plt.imshow(inputs[i, 0, :, :, slice_idx].cpu().numpy(), cmap='gray')\n",
    "            plt.title(f\"Real: {int(labels[i].item())}\\nPred: {int(predicted[i].item())}\")\n",
    "            plt.axis('off')\n",
    "        plt.tight_layout()\n",
    "        plt.show()\n",
    "        break  # Exibir apenas o primeiro batch\n"
   ]
  },
  {
   "cell_type": "markdown",
   "id": "049b028a-9cf7-42d6-a9ed-a7a90ce6bc66",
   "metadata": {},
   "source": [
    "### Explicação dos Resultados\n",
    "\n",
    "As **6 imagens acima** mostram exemplos do conjunto de teste processados pelo modelo. Cada imagem é uma fatia intermediária de um volume 3D, exibida em escala de cinza para facilitar a visualização.\n",
    "\n",
    "- **Real:** Indica a classe verdadeira da amostra no dataset.\n",
    "  - **0:** Representa a classe \"abnormal\".\n",
    "  - **1:** Representa a classe \"normal\".\n",
    "  \n",
    "- **Pred:** Indica a classe predita pelo modelo para aquela amostra.\n",
    "  - Se o valor de **Real** for igual ao de **Pred**, o modelo acertou a classificação.\n",
    "  - Caso contrário, o modelo errou.\n",
    "\n",
    "Esses resultados ajudam a entender como o modelo está performando ao associar as predições às classes reais. Para avançar, é possível calcular métricas como acurácia, precisão e recall, e analisar casos em que o modelo cometeu erros para identificar possíveis melhorias.\n"
   ]
  },
  {
   "cell_type": "markdown",
   "id": "8c084be5-b050-4576-b62d-c3c9e642275d",
   "metadata": {},
   "source": []
  },
  {
   "cell_type": "markdown",
   "id": "3c2feec4-411e-477f-9f0d-4fecfaa11a7e",
   "metadata": {},
   "source": [
    "### Salvando o Modelo Treinado (#9)\n",
    "\n",
    "- **Objetivo:**\n",
    "  - Salvar o estado do modelo treinado em um arquivo para reutilização futura.\n",
    "\n",
    "- **Descrição do Código:**\n",
    "  - **Diretório de Salvamento:**\n",
    "    - O modelo será salvo no diretório `/home/thalles.fontainha/modelos`.\n",
    "    - Caso o diretório não exista, ele será criado automaticamente.\n",
    "  - **Nome Dinâmico do Arquivo:**\n",
    "    - O nome do arquivo inclui a data e a hora atual no formato `YYYY-MM-DD_HH-MM-SS` para identificar facilmente a versão do modelo.\n",
    "  - **Formato de Salvamento:**\n",
    "    - O estado do modelo (`state_dict`) é salvo em um arquivo `.pth`, que é o formato padrão para modelos PyTorch.\n"
   ]
  },
  {
   "cell_type": "code",
   "execution_count": 9,
   "id": "5c5f89cd-171f-43cd-b4b5-e53883d4fe7b",
   "metadata": {},
   "outputs": [
    {
     "name": "stdout",
     "output_type": "stream",
     "text": [
      "Modelo salvo com sucesso em: /home/thalles.fontainha/modelos/modelo_treinado_2025-01-17_08-46-40.pth\n"
     ]
    }
   ],
   "source": [
    "#9 - Salvar o modelo treinado\n",
    "import os\n",
    "from datetime import datetime\n",
    "\n",
    "# Caminho onde o modelo será salvo\n",
    "model_path = \"/home/thalles.fontainha/modelos\"\n",
    "os.makedirs(model_path, exist_ok=True)  # Garantir que o diretório existe\n",
    "\n",
    "# Gerar o nome do arquivo com base na data e hora\n",
    "current_time = datetime.now().strftime(\"%Y-%m-%d_%H-%M-%S\")\n",
    "model_filename = f\"modelo_treinado_{current_time}.pth\"\n",
    "\n",
    "# Caminho completo do arquivo\n",
    "model_full_path = os.path.join(model_path, model_filename)\n",
    "\n",
    "# Salvar o modelo treinado\n",
    "torch.save(model.state_dict(), model_full_path)\n",
    "\n",
    "print(f\"Modelo salvo com sucesso em: {model_full_path}\")\n"
   ]
  },
  {
   "cell_type": "markdown",
   "id": "adf6913f-0ed7-4b36-abe7-1e4a787cc766",
   "metadata": {},
   "source": [
    "### Calculando o Percentual de Acerto em CNN (#10)\n",
    "\n",
    "- **Objetivo:**\n",
    "  - Determinar a acurácia do modelo no batch atual, ou seja, a proporção de predições corretas em relação ao total de amostras.\n",
    "\n",
    "- **Descrição do Código:**\n",
    "  - **Cálculo de Acertos:**\n",
    "    - Compara as predições do modelo (`predicted`) com os rótulos verdadeiros (`labels`) e soma o número de correspondências.\n",
    "  - **Total de Amostras:**\n",
    "    - Obtém o número total de exemplos no batch atual.\n",
    "  - **Cálculo da Acurácia:**\n",
    "    - A acurácia é calculada como a razão entre o número de acertos e o total de amostras, multiplicada por 100 para expressar em porcentagem.\n",
    "  - **Exibição da Acurácia:**\n",
    "    - O resultado é exibido no formato `Acurácia no batch: X.XX%`."
   ]
  },
  {
   "cell_type": "code",
   "execution_count": 22,
   "id": "e5fbff2a-9154-4a1f-a92c-0314b722b4a0",
   "metadata": {},
   "outputs": [
    {
     "name": "stdout",
     "output_type": "stream",
     "text": [
      "Acurácia no batch: 50.00%\n"
     ]
    }
   ],
   "source": [
    "# 10 Calcular o percentual de acerto em CNN\n",
    "acertos = (predicted == labels).sum().item()\n",
    "total = labels.size(0)\n",
    "acuracia = (acertos / total) * 100\n",
    "print(f\"Acurácia no batch: {acuracia:.2f}%\")\n"
   ]
  },
  {
   "cell_type": "markdown",
   "id": "2b39bdc4-325e-41dc-9871-e2de579bb42e",
   "metadata": {},
   "source": [
    "### #11 Criar o DataLoader para os Dados de Teste\n",
    "\n",
    "Este código configura os dados de teste para avaliar o desempenho do modelo após o treinamento:\n",
    "\n",
    "- **Seleção de Dados:** Utiliza subconjuntos dos dados normalizados (`500:600`) de ambos os conjuntos (`abnormal` e `normal`) para criar os dados de teste.\n",
    "- **Criação de Labels:** Define `0` para amostras anormais e `1` para normais, mantendo a consistência com o treinamento.\n",
    "- **Configuração do DataLoader:** Cria um `DataLoader` com `batch_size=16` e sem embaralhamento (`shuffle=False`) para processar os dados de teste.\n",
    "\n",
    "Esses dados serão usados para calcular métricas de desempenho, como acurácia, precisão, recall e F1-Score.\n"
   ]
  },
  {
   "cell_type": "code",
   "execution_count": 13,
   "id": "0f05cf02-766b-442b-9514-1dd11a1c20d8",
   "metadata": {},
   "outputs": [
    {
     "name": "stdout",
     "output_type": "stream",
     "text": [
      "[INFO] Configurando o DataLoader para os dados de teste...\n",
      "[INFO] Dados de teste configurados com 200 amostras.\n"
     ]
    }
   ],
   "source": [
    "#11 Criar o DataLoader para os dados de teste\n",
    "print(\"[INFO] Configurando o DataLoader para os dados de teste...\")\n",
    "\n",
    "# Usar uma fração dos dados normalizados para teste\n",
    "test_data = np.concatenate((abnormal_normalized[500:600], normal_normalized[500:600]), axis=0)\n",
    "test_labels = torch.cat((\n",
    "    torch.zeros(len(abnormal_normalized[500:600])),\n",
    "    torch.ones(len(normal_normalized[500:600]))\n",
    "), dim=0)\n",
    "\n",
    "# Criar o DataLoader de teste\n",
    "test_tensor_dataset = TensorDataset(torch.tensor(test_data, dtype=torch.float32), test_labels)\n",
    "test_loader = DataLoader(test_tensor_dataset, batch_size=16, shuffle=False)\n",
    "\n",
    "print(f\"[INFO] Dados de teste configurados com {len(test_labels)} amostras.\")\n"
   ]
  },
  {
   "cell_type": "markdown",
   "id": "941a954e-68be-4554-8f67-eb65515401a8",
   "metadata": {},
   "source": [
    "### Avaliação de Métricas nos Dados de Validação/Teste (#12)\n",
    "\n",
    "- **Objetivo:**\n",
    "  - Expandir a análise do modelo calculando métricas adicionais (ex.: precisão, recall, F1-score) nos dados de validação/teste, além da acurácia.\n",
    "\n",
    "- **Descrição do Código:**\n",
    "  - **Separação de Dados:**\n",
    "    - Garantir que o dataset original seja dividido corretamente em treino, validação e teste para evitar viés.\n",
    "  - **Predições no Conjunto de Teste:**\n",
    "    - Aplicar o modelo nos dados de teste e armazenar as predições e rótulos verdadeiros.\n",
    "  - **Cálculo de Métricas:**\n",
    "    - Usar bibliotecas como `sklearn.metrics` para calcular métricas como:\n",
    "      - **Acurácia:** Proporção de predições corretas.\n",
    "      - **Precisão:** Quantidade de predições positivas corretas em relação ao total de predições positivas.\n",
    "      - **Recall:** Quantidade de verdadeiros positivos corretamente classificados em relação ao total de positivos reais.\n",
    "      - **F1-Score:** Combinação harmônica entre precisão e recall.\n",
    "  - **Exibição de Resultados:**\n",
    "    - Imprimir todas as métricas no console e opcionalmente salvar os resultados para análise futura.\n"
   ]
  },
  {
   "cell_type": "code",
   "execution_count": 15,
   "id": "731507c8-db8c-4472-a067-00cbcb3905fa",
   "metadata": {},
   "outputs": [
    {
     "name": "stdout",
     "output_type": "stream",
     "text": [
      "[INFO] Carregando o modelo salvo para avaliação...\n",
      "\n",
      "[INFO] Avaliando o modelo nos dados de teste...\n",
      "\n",
      "[RESULTADOS DA AVALIAÇÃO]\n",
      "  -> Acurácia : 50.00%\n",
      "  -> Precisão : 50.00%\n",
      "  -> Recall   : 100.00%\n",
      "  -> F1-Score : 66.67%\n"
     ]
    }
   ],
   "source": [
    "#12 Avaliar o modelo nos dados de teste\n",
    "from sklearn.metrics import accuracy_score, precision_score, recall_score, f1_score\n",
    "import warnings\n",
    "\n",
    "# Definir o modelo SimpleCNN novamente\n",
    "class SimpleCNN(nn.Module):\n",
    "    def __init__(self):\n",
    "        super(SimpleCNN, self).__init__()\n",
    "        self.conv1 = nn.Conv3d(1, 16, kernel_size=(3, 3, 3))  # Ajustado para 1 canal de entrada\n",
    "        self.relu1 = nn.ReLU()\n",
    "        self.pool1 = nn.MaxPool3d(kernel_size=(2, 2, 2))\n",
    "        self.conv2 = nn.Conv3d(16, 32, kernel_size=(3, 3, 3))\n",
    "        self.relu2 = nn.ReLU()\n",
    "        self.pool2 = nn.MaxPool3d(kernel_size=(2, 2, 2))\n",
    "        self.flatten = nn.Flatten()\n",
    "        self.fc1 = nn.Linear(32 * 30 * 30 * 14, 64)\n",
    "        self.relu3 = nn.ReLU()\n",
    "        self.fc2 = nn.Linear(64, 2)\n",
    "\n",
    "    def forward(self, x):\n",
    "        x = self.conv1(x)\n",
    "        x = self.relu1(x)\n",
    "        x = self.pool1(x)\n",
    "        x = self.conv2(x)\n",
    "        x = self.relu2(x)\n",
    "        x = self.pool2(x)\n",
    "        x = self.flatten(x)\n",
    "        x = self.fc1(x)\n",
    "        x = self.relu3(x)\n",
    "        x = self.fc2(x)\n",
    "        return x\n",
    "\n",
    "# Carregar o modelo treinado\n",
    "print(\"[INFO] Carregando o modelo salvo para avaliação...\")\n",
    "model = SimpleCNN().to(device)\n",
    "\n",
    "# Supressão específica do warning\n",
    "with warnings.catch_warnings():\n",
    "    warnings.simplefilter(\"ignore\", category=FutureWarning)\n",
    "    #model.load_state_dict(torch.load(\"/home/thalles.fontainha/modelos/modelo_treinado_2025-01-16_18-12-10.pth\"))\n",
    "    #model.load_state_dict(torch.load(\"/home/thalles.fontainha/modelos/modelo_treinado_2025-01-16_20-58-13.pth\"))\n",
    "    model.load_state_dict(torch.load(\"/home/thalles.fontainha/modelos/modelo_treinado_2025-01-17_07-53-51.pth\"))  \n",
    "\n",
    "model.eval()  # Colocar o modelo em modo de avaliação\n",
    "\n",
    "# Função para avaliar o modelo em um DataLoader\n",
    "def avaliar_modelo(model, test_loader):\n",
    "    print(\"\\n[INFO] Avaliando o modelo nos dados de teste...\")\n",
    "    all_labels = []\n",
    "    all_predictions = []\n",
    "\n",
    "    # Avaliar nos dados de teste\n",
    "    with torch.no_grad():\n",
    "        for inputs, labels in test_loader:\n",
    "            inputs, labels = inputs.unsqueeze(1).to(device), labels.to(device)\n",
    "            outputs = model(inputs)\n",
    "            _, predicted = torch.max(outputs, 1)\n",
    "            all_labels.extend(labels.cpu().numpy())\n",
    "            all_predictions.extend(predicted.cpu().numpy())\n",
    "\n",
    "    # Cálculo de métricas\n",
    "    acc = accuracy_score(all_labels, all_predictions) * 100\n",
    "    precision = precision_score(all_labels, all_predictions, average='binary') * 100\n",
    "    recall = recall_score(all_labels, all_predictions, average='binary') * 100\n",
    "    f1 = f1_score(all_labels, all_predictions, average='binary') * 100\n",
    "\n",
    "    # Exibir resultados detalhados\n",
    "    print(\"\\n[RESULTADOS DA AVALIAÇÃO]\")\n",
    "    print(f\"  -> Acurácia : {acc:.2f}%\")\n",
    "    print(f\"  -> Precisão : {precision:.2f}%\")\n",
    "    print(f\"  -> Recall   : {recall:.2f}%\")\n",
    "    print(f\"  -> F1-Score : {f1:.2f}%\")\n",
    "\n",
    "# Executar a avaliação com o DataLoader atual\n",
    "avaliar_modelo(model, test_loader)\n"
   ]
  },
  {
   "cell_type": "code",
   "execution_count": 16,
   "id": "4d36fa2f-f287-497c-855d-00ad3dabc521",
   "metadata": {},
   "outputs": [
    {
     "name": "stdout",
     "output_type": "stream",
     "text": [
      "[INFO] Configurando novo DataLoader com mais amostras para teste...\n",
      "[INFO] Novo conjunto de teste configurado com 600 amostras.\n",
      "\n",
      "[INFO] Avaliando o modelo nos dados de teste...\n",
      "\n",
      "[RESULTADOS DA AVALIAÇÃO]\n",
      "  -> Acurácia : 50.00%\n",
      "  -> Precisão : 50.00%\n",
      "  -> Recall   : 100.00%\n",
      "  -> F1-Score : 66.67%\n"
     ]
    }
   ],
   "source": [
    "#13 Testar o modelo com mais amostras\n",
    "print(\"[INFO] Configurando novo DataLoader com mais amostras para teste...\")\n",
    "\n",
    "# Ajustar as amostras para teste\n",
    "test_data_expanded = np.concatenate((abnormal_normalized[400:700], normal_normalized[400:700]), axis=0)  # 300 amostras por classe\n",
    "test_labels_expanded = torch.cat((\n",
    "    torch.zeros(len(abnormal_normalized[400:700])),\n",
    "    torch.ones(len(normal_normalized[400:700]))\n",
    "), dim=0)\n",
    "\n",
    "# Criar novo DataLoader\n",
    "test_tensor_dataset_expanded = TensorDataset(torch.tensor(test_data_expanded, dtype=torch.float32), test_labels_expanded)\n",
    "test_loader_expanded = DataLoader(test_tensor_dataset_expanded, batch_size=16, shuffle=False)\n",
    "\n",
    "print(f\"[INFO] Novo conjunto de teste configurado com {len(test_labels_expanded)} amostras.\")\n",
    "\n",
    "# Avaliar o modelo com o novo DataLoader\n",
    "avaliar_modelo(model, test_loader_expanded)\n"
   ]
  },
  {
   "cell_type": "code",
   "execution_count": 17,
   "id": "4e3dc0f5-ac29-416e-b6b5-f3d3e8ea1706",
   "metadata": {
    "scrolled": true
   },
   "outputs": [
    {
     "name": "stdout",
     "output_type": "stream",
     "text": [
      "[INFO] Configurando DataLoader com 1200 amostras para teste...\n",
      "[INFO] Conjunto de teste configurado com 1200 amostras.\n",
      "\n",
      "[INFO] Avaliando o modelo nos dados de teste...\n",
      "\n",
      "[RESULTADOS DA AVALIAÇÃO]\n",
      "  -> Acurácia : 50.00%\n",
      "  -> Precisão : 50.00%\n",
      "  -> Recall   : 100.00%\n",
      "  -> F1-Score : 66.67%\n"
     ]
    }
   ],
   "source": [
    "#14 Testar o modelo com 1200 amostras\n",
    "print(\"[INFO] Configurando DataLoader com 1200 amostras para teste...\")\n",
    "\n",
    "# Ajustar as amostras para teste\n",
    "test_data_1200 = np.concatenate((abnormal_normalized[200:800], normal_normalized[200:800]), axis=0)  # 600 amostras por classe\n",
    "test_labels_1200 = torch.cat((\n",
    "    torch.zeros(len(abnormal_normalized[200:800])),  # Labels para a classe abnormal\n",
    "    torch.ones(len(normal_normalized[200:800]))     # Labels para a classe normal\n",
    "), dim=0)\n",
    "\n",
    "# Criar DataLoader com 1200 amostras\n",
    "test_tensor_dataset_1200 = TensorDataset(torch.tensor(test_data_1200, dtype=torch.float32), test_labels_1200)\n",
    "test_loader_1200 = DataLoader(test_tensor_dataset_1200, batch_size=16, shuffle=False)\n",
    "\n",
    "print(f\"[INFO] Conjunto de teste configurado com {len(test_labels_1200)} amostras.\")\n",
    "\n",
    "# Avaliar o modelo com o DataLoader de 1200 amostras\n",
    "avaliar_modelo(model, test_loader_1200)\n",
    "\n"
   ]
  },
  {
   "cell_type": "markdown",
   "id": "f8de7679-332b-47fc-bdbe-2d1eae6f7f98",
   "metadata": {},
   "source": [
    "## MÉTODOS PARA AJUSTAR HIPERPARÂMETROS"
   ]
  },
  {
   "cell_type": "markdown",
   "id": "e840d1ac-f754-4da7-9e60-b0c79c15ed78",
   "metadata": {},
   "source": [
    "### Código: Teste com Diferentes Taxas de Aprendizado\n",
    "\n",
    "Este código realiza experimentos variando a **taxa de aprendizado** para observar como ela impacta o treinamento do modelo.  \n",
    "Três valores são testados: `0.001`, `0.0005`, e `0.0001`.  \n",
    "\n",
    "#### Funcionamento:\n",
    "1. Para cada valor de taxa de aprendizado:\n",
    "   - Configura o otimizador Adam com a taxa correspondente.\n",
    "   - Inicia o treinamento utilizando a função `treinar_modelo`.\n",
    "   - Exibe os resultados do treinamento, incluindo a perda média e o tempo por época.\n",
    "\n",
    "O objetivo é identificar qual taxa de aprendizado fornece melhores resultados em termos de convergência e estabilidade durante o treinamento.\n"
   ]
  },
  {
   "cell_type": "code",
   "execution_count": 18,
   "id": "ee8a3508-ffb9-4cc0-a552-801847fa76c5",
   "metadata": {},
   "outputs": [
    {
     "name": "stdout",
     "output_type": "stream",
     "text": [
      "Treinando com taxa de aprendizado: 0.001\n",
      "[INFO] Iniciando treinamento...\n",
      "\n",
      "Época     Perda Média    Tempo (s) \n",
      "-----------------------------------\n"
     ]
    },
    {
     "name": "stderr",
     "output_type": "stream",
     "text": [
      "\n",
      "reinando Época 1/5: 100%|██████████| 63/63 [00:14<00:00,  4.31batch/s]"
     ]
    },
    {
     "name": "stdout",
     "output_type": "stream",
     "text": [
      "1         0.6933         14.64     \n"
     ]
    },
    {
     "name": "stderr",
     "output_type": "stream",
     "text": [
      "\n",
      "reinando Época 2/5: 100%|██████████| 63/63 [00:07<00:00,  8.93batch/s]"
     ]
    },
    {
     "name": "stdout",
     "output_type": "stream",
     "text": [
      "2         0.6933         7.07      \n"
     ]
    },
    {
     "name": "stderr",
     "output_type": "stream",
     "text": [
      "\n",
      "reinando Época 3/5: 100%|██████████| 63/63 [00:07<00:00,  8.88batch/s]"
     ]
    },
    {
     "name": "stdout",
     "output_type": "stream",
     "text": [
      "3         0.6933         7.10      \n"
     ]
    },
    {
     "name": "stderr",
     "output_type": "stream",
     "text": [
      "\n",
      "reinando Época 4/5: 100%|██████████| 63/63 [00:07<00:00,  8.75batch/s]"
     ]
    },
    {
     "name": "stdout",
     "output_type": "stream",
     "text": [
      "4         0.6933         7.20      \n"
     ]
    },
    {
     "name": "stderr",
     "output_type": "stream",
     "text": [
      "\n",
      "reinando Época 5/5: 100%|██████████| 63/63 [00:07<00:00,  8.84batch/s]"
     ]
    },
    {
     "name": "stdout",
     "output_type": "stream",
     "text": [
      "5         0.6933         7.13      \n",
      "\n",
      "[INFO] Treinamento concluído!\n",
      "Treinando com taxa de aprendizado: 0.0005\n",
      "[INFO] Iniciando treinamento...\n",
      "\n",
      "Época     Perda Média    Tempo (s) \n",
      "-----------------------------------\n"
     ]
    },
    {
     "name": "stderr",
     "output_type": "stream",
     "text": [
      "\n",
      "reinando Época 1/5: 100%|██████████| 63/63 [00:07<00:00,  8.68batch/s]"
     ]
    },
    {
     "name": "stdout",
     "output_type": "stream",
     "text": [
      "1         0.6933         7.26      \n"
     ]
    },
    {
     "name": "stderr",
     "output_type": "stream",
     "text": [
      "\n",
      "reinando Época 2/5: 100%|██████████| 63/63 [00:07<00:00,  8.78batch/s]"
     ]
    },
    {
     "name": "stdout",
     "output_type": "stream",
     "text": [
      "2         0.6932         7.18      \n"
     ]
    },
    {
     "name": "stderr",
     "output_type": "stream",
     "text": [
      "\n",
      "reinando Época 3/5: 100%|██████████| 63/63 [00:07<00:00,  8.80batch/s]"
     ]
    },
    {
     "name": "stdout",
     "output_type": "stream",
     "text": [
      "3         0.6932         7.16      \n"
     ]
    },
    {
     "name": "stderr",
     "output_type": "stream",
     "text": [
      "\n",
      "reinando Época 4/5: 100%|██████████| 63/63 [00:07<00:00,  8.72batch/s]"
     ]
    },
    {
     "name": "stdout",
     "output_type": "stream",
     "text": [
      "4         0.6932         7.23      \n"
     ]
    },
    {
     "name": "stderr",
     "output_type": "stream",
     "text": [
      "\n",
      "reinando Época 5/5: 100%|██████████| 63/63 [00:07<00:00,  8.55batch/s]"
     ]
    },
    {
     "name": "stdout",
     "output_type": "stream",
     "text": [
      "5         0.6932         7.37      \n",
      "\n",
      "[INFO] Treinamento concluído!\n",
      "Treinando com taxa de aprendizado: 0.0001\n",
      "[INFO] Iniciando treinamento...\n",
      "\n",
      "Época     Perda Média    Tempo (s) \n",
      "-----------------------------------\n"
     ]
    },
    {
     "name": "stderr",
     "output_type": "stream",
     "text": [
      "\n",
      "reinando Época 1/5: 100%|██████████| 63/63 [00:07<00:00,  8.52batch/s]"
     ]
    },
    {
     "name": "stdout",
     "output_type": "stream",
     "text": [
      "1         0.6932         7.42      \n"
     ]
    },
    {
     "name": "stderr",
     "output_type": "stream",
     "text": [
      "\n",
      "reinando Época 2/5: 100%|██████████| 63/63 [00:07<00:00,  8.62batch/s]"
     ]
    },
    {
     "name": "stdout",
     "output_type": "stream",
     "text": [
      "2         0.6932         7.31      \n"
     ]
    },
    {
     "name": "stderr",
     "output_type": "stream",
     "text": [
      "\n",
      "reinando Época 3/5: 100%|██████████| 63/63 [00:07<00:00,  8.57batch/s]"
     ]
    },
    {
     "name": "stdout",
     "output_type": "stream",
     "text": [
      "3         0.6932         7.37      \n"
     ]
    },
    {
     "name": "stderr",
     "output_type": "stream",
     "text": [
      "\n",
      "reinando Época 4/5: 100%|██████████| 63/63 [00:07<00:00,  8.56batch/s]"
     ]
    },
    {
     "name": "stdout",
     "output_type": "stream",
     "text": [
      "4         0.6932         7.37      \n"
     ]
    },
    {
     "name": "stderr",
     "output_type": "stream",
     "text": [
      "Treinando Época 5/5: 100%|██████████| 63/63 [00:07<00:00,  8.42batch/s]"
     ]
    },
    {
     "name": "stdout",
     "output_type": "stream",
     "text": [
      "5         0.6932         7.48      \n",
      "\n",
      "[INFO] Treinamento concluído!\n"
     ]
    },
    {
     "name": "stderr",
     "output_type": "stream",
     "text": [
      "\n"
     ]
    }
   ],
   "source": [
    "#a Busca Manual (Manual Search)\n",
    "learning_rates = [0.001, 0.0005, 0.0001]\n",
    "for lr in learning_rates:\n",
    "    optimizer = torch.optim.Adam(model.parameters(), lr=lr)\n",
    "    print(f\"Treinando com taxa de aprendizado: {lr}\")\n",
    "    treinar_modelo(model, data_loader, criterion, optimizer)\n",
    "\n"
   ]
  },
  {
   "cell_type": "markdown",
   "id": "09e5cb72-e58c-497c-af51-3a797c9534cc",
   "metadata": {},
   "source": [
    "### Análise dos Resultados\n",
    "\n",
    "- **Taxa de aprendizado: 0.001**\n",
    "  - Perda média estabilizou em `0.6933` ao longo das épocas.\n",
    "  - Inicialização um pouco mais lenta na primeira época, mas o tempo por época estabilizou (~7 segundos).\n",
    "  - Não houve melhoria significativa na perda.\n",
    "\n",
    "- **Taxa de aprendizado: 0.0005**\n",
    "  - Perda média levemente melhor em relação a `0.001` (`0.6932`).\n",
    "  - O tempo por época foi consistente (~7.2 segundos).\n",
    "  - Indicou uma leve melhora na estabilidade.\n",
    "\n",
    "- **Taxa de aprendizado: 0.0001**\n",
    "  - Perda média similar a `0.0005` (`0.6932`).\n",
    "  - Tempo por época consistente (~7.3 segundos).\n",
    "  - Resultados estáveis, mas sem melhora evidente em relação às taxas maiores.\n",
    "\n",
    "#### Observações:\n",
    "- As três taxas de aprendizado apresentaram resultados semelhantes, com a perda média estabilizando em torno de `0.6932` a `0.6933`.\n",
    "- O modelo parece estar preso em um platô, sugerindo que:\n",
    "  - Ajustes na arquitetura ou nos dados podem ser necessários.\n",
    "  - Taxas de aprendizado mais altas ou estratégias de decay dinâmico podem ser exploradas.\n"
   ]
  },
  {
   "cell_type": "code",
   "execution_count": null,
   "id": "a63b8523-6f33-4720-a1d3-6ef8ffd88840",
   "metadata": {},
   "outputs": [],
   "source": []
  },
  {
   "cell_type": "markdown",
   "id": "9caa35d9-5f96-4c8c-a448-f4b0ef65bd92",
   "metadata": {},
   "source": [
    "### #B Código: Grid Search para Ajuste de Hiperparâmetros\n",
    "\n",
    "Este código realiza uma **busca em grade (Grid Search)** para testar diferentes combinações de hiperparâmetros:\n",
    "- **Learning Rates:** Define taxas de aprendizado (ex.: 0.001 e 0.0001).\n",
    "- **Batch Sizes:** Testa diferentes tamanhos de lote (ex.: 16 e 32).\n",
    "\n",
    "#### Funcionamento:\n",
    "1. Cria todas as combinações possíveis de `learning_rates` e `batch_sizes` utilizando o módulo `itertools`.\n",
    "2. Para cada combinação:\n",
    "   - Configura o otimizador (`Adam`) com a taxa de aprendizado correspondente.\n",
    "   - Prepara o `DataLoader` com o tamanho de lote especificado.\n",
    "   - Realiza o treinamento chamando a função `treinar_modelo`.\n",
    "\n",
    "Este procedimento ajuda a identificar a melhor combinação de hiperparâmetros para o modelo. \n"
   ]
  },
  {
   "cell_type": "code",
   "execution_count": 23,
   "id": "a788219d-44eb-47a1-ad38-6e927da49169",
   "metadata": {},
   "outputs": [
    {
     "name": "stdout",
     "output_type": "stream",
     "text": [
      "Treinando com LR: 0.001, Batch Size: 16\n",
      "[INFO] Iniciando treinamento...\n",
      "\n",
      "Época     Perda Média    Tempo (s) \n",
      "-----------------------------------\n"
     ]
    },
    {
     "name": "stderr",
     "output_type": "stream",
     "text": [
      "\n",
      "reinando Época 1/5: 100%|██████████| 63/63 [00:06<00:00,  9.03batch/s]"
     ]
    },
    {
     "name": "stdout",
     "output_type": "stream",
     "text": [
      "1         0.6934         6.98      \n"
     ]
    },
    {
     "name": "stderr",
     "output_type": "stream",
     "text": [
      "\n",
      "reinando Época 2/5: 100%|██████████| 63/63 [00:06<00:00,  9.00batch/s]"
     ]
    },
    {
     "name": "stdout",
     "output_type": "stream",
     "text": [
      "2         0.6932         7.00      \n"
     ]
    },
    {
     "name": "stderr",
     "output_type": "stream",
     "text": [
      "\n",
      "reinando Época 3/5: 100%|██████████| 63/63 [00:07<00:00,  8.97batch/s]"
     ]
    },
    {
     "name": "stdout",
     "output_type": "stream",
     "text": [
      "3         0.6932         7.03      \n"
     ]
    },
    {
     "name": "stderr",
     "output_type": "stream",
     "text": [
      "\n",
      "reinando Época 4/5: 100%|██████████| 63/63 [00:07<00:00,  8.87batch/s]"
     ]
    },
    {
     "name": "stdout",
     "output_type": "stream",
     "text": [
      "4         0.6933         7.11      \n"
     ]
    },
    {
     "name": "stderr",
     "output_type": "stream",
     "text": [
      "\n",
      "reinando Época 5/5: 100%|██████████| 63/63 [00:07<00:00,  8.82batch/s]"
     ]
    },
    {
     "name": "stdout",
     "output_type": "stream",
     "text": [
      "5         0.6932         7.15      \n",
      "\n",
      "[INFO] Treinamento concluído!\n",
      "Treinando com LR: 0.001, Batch Size: 32\n",
      "[INFO] Iniciando treinamento...\n",
      "\n",
      "Época     Perda Média    Tempo (s) \n",
      "-----------------------------------\n"
     ]
    },
    {
     "name": "stderr",
     "output_type": "stream",
     "text": [
      "\n",
      "reinando Época 1/5: 100%|██████████| 32/32 [00:06<00:00,  4.75batch/s]"
     ]
    },
    {
     "name": "stdout",
     "output_type": "stream",
     "text": [
      "1         0.6932         6.75      \n"
     ]
    },
    {
     "name": "stderr",
     "output_type": "stream",
     "text": [
      "\n",
      "reinando Época 2/5: 100%|██████████| 32/32 [00:06<00:00,  4.78batch/s]"
     ]
    },
    {
     "name": "stdout",
     "output_type": "stream",
     "text": [
      "2         0.6932         6.70      \n"
     ]
    },
    {
     "name": "stderr",
     "output_type": "stream",
     "text": [
      "\n",
      "reinando Época 3/5: 100%|██████████| 32/32 [00:06<00:00,  4.78batch/s]"
     ]
    },
    {
     "name": "stdout",
     "output_type": "stream",
     "text": [
      "3         0.6932         6.70      \n"
     ]
    },
    {
     "name": "stderr",
     "output_type": "stream",
     "text": [
      "\n",
      "reinando Época 4/5: 100%|██████████| 32/32 [00:06<00:00,  4.72batch/s]"
     ]
    },
    {
     "name": "stdout",
     "output_type": "stream",
     "text": [
      "4         0.6932         6.78      \n"
     ]
    },
    {
     "name": "stderr",
     "output_type": "stream",
     "text": [
      "\n",
      "reinando Época 5/5: 100%|██████████| 32/32 [00:06<00:00,  4.71batch/s]"
     ]
    },
    {
     "name": "stdout",
     "output_type": "stream",
     "text": [
      "5         0.6932         6.79      \n",
      "\n",
      "[INFO] Treinamento concluído!\n",
      "Treinando com LR: 0.0001, Batch Size: 16\n",
      "[INFO] Iniciando treinamento...\n",
      "\n",
      "Época     Perda Média    Tempo (s) \n",
      "-----------------------------------\n"
     ]
    },
    {
     "name": "stderr",
     "output_type": "stream",
     "text": [
      "\n",
      "reinando Época 1/5: 100%|██████████| 63/63 [00:07<00:00,  8.63batch/s]"
     ]
    },
    {
     "name": "stdout",
     "output_type": "stream",
     "text": [
      "1         0.6932         7.31      \n"
     ]
    },
    {
     "name": "stderr",
     "output_type": "stream",
     "text": [
      "\n",
      "reinando Época 2/5: 100%|██████████| 63/63 [00:07<00:00,  8.62batch/s]"
     ]
    },
    {
     "name": "stdout",
     "output_type": "stream",
     "text": [
      "2         0.6932         7.31      \n"
     ]
    },
    {
     "name": "stderr",
     "output_type": "stream",
     "text": [
      "\n",
      "reinando Época 3/5: 100%|██████████| 63/63 [00:07<00:00,  8.47batch/s]"
     ]
    },
    {
     "name": "stdout",
     "output_type": "stream",
     "text": [
      "3         0.6932         7.44      \n"
     ]
    },
    {
     "name": "stderr",
     "output_type": "stream",
     "text": [
      "\n",
      "reinando Época 4/5: 100%|██████████| 63/63 [00:07<00:00,  8.54batch/s]"
     ]
    },
    {
     "name": "stdout",
     "output_type": "stream",
     "text": [
      "4         0.6932         7.38      \n"
     ]
    },
    {
     "name": "stderr",
     "output_type": "stream",
     "text": [
      "\n",
      "reinando Época 5/5: 100%|██████████| 63/63 [00:07<00:00,  8.56batch/s]"
     ]
    },
    {
     "name": "stdout",
     "output_type": "stream",
     "text": [
      "5         0.6932         7.37      \n",
      "\n",
      "[INFO] Treinamento concluído!\n",
      "Treinando com LR: 0.0001, Batch Size: 32\n",
      "[INFO] Iniciando treinamento...\n",
      "\n",
      "Época     Perda Média    Tempo (s) \n",
      "-----------------------------------\n"
     ]
    },
    {
     "name": "stderr",
     "output_type": "stream",
     "text": [
      "\n",
      "reinando Época 1/5: 100%|██████████| 32/32 [00:06<00:00,  4.61batch/s]"
     ]
    },
    {
     "name": "stdout",
     "output_type": "stream",
     "text": [
      "1         0.6932         6.95      \n"
     ]
    },
    {
     "name": "stderr",
     "output_type": "stream",
     "text": [
      "\n",
      "reinando Época 2/5: 100%|██████████| 32/32 [00:06<00:00,  4.58batch/s]"
     ]
    },
    {
     "name": "stdout",
     "output_type": "stream",
     "text": [
      "2         0.6932         7.00      \n"
     ]
    },
    {
     "name": "stderr",
     "output_type": "stream",
     "text": [
      "\n",
      "reinando Época 3/5: 100%|██████████| 32/32 [00:06<00:00,  4.58batch/s]"
     ]
    },
    {
     "name": "stdout",
     "output_type": "stream",
     "text": [
      "3         0.6932         7.00      \n"
     ]
    },
    {
     "name": "stderr",
     "output_type": "stream",
     "text": [
      "\n",
      "reinando Época 4/5: 100%|██████████| 32/32 [00:07<00:00,  4.56batch/s]"
     ]
    },
    {
     "name": "stdout",
     "output_type": "stream",
     "text": [
      "4         0.6931         7.02      \n"
     ]
    },
    {
     "name": "stderr",
     "output_type": "stream",
     "text": [
      "Treinando Época 5/5: 100%|██████████| 32/32 [00:07<00:00,  4.56batch/s]"
     ]
    },
    {
     "name": "stdout",
     "output_type": "stream",
     "text": [
      "5         0.6931         7.02      \n",
      "\n",
      "[INFO] Treinamento concluído!\n"
     ]
    },
    {
     "name": "stderr",
     "output_type": "stream",
     "text": [
      "\n"
     ]
    }
   ],
   "source": [
    "#b Grid Search\n",
    "import itertools\n",
    "\n",
    "learning_rates = [0.001, 0.0001]\n",
    "batch_sizes = [16, 32]\n",
    "combinations = list(itertools.product(learning_rates, batch_sizes))\n",
    "\n",
    "for lr, batch_size in combinations:\n",
    "    print(f\"Treinando com LR: {lr}, Batch Size: {batch_size}\")\n",
    "    optimizer = torch.optim.Adam(model.parameters(), lr=lr)\n",
    "    \n",
    "    # Substitua `dataset` pelo seu dataset definido, como `tensor_dataset`\n",
    "    data_loader = DataLoader(tensor_dataset, batch_size=batch_size, shuffle=True)\n",
    "    treinar_modelo(model, data_loader, criterion, optimizer)\n"
   ]
  },
  {
   "cell_type": "markdown",
   "id": "2052ea64-3133-4eb0-a02a-c79ce97ab43e",
   "metadata": {},
   "source": [
    "### Análise dos Resultados do Grid Search\n",
    "\n",
    "1. **Taxas de Aprendizado (LR):**  \n",
    "   - Os resultados para **0.001** e **0.0001** mostram perda estável (~0.6932) ao longo das épocas, indicando que o modelo não está aprendendo significativamente.  \n",
    "   - Ambas as taxas são pequenas e podem ser insuficientes para atualizações mais expressivas nos pesos.\n",
    "\n",
    "2. **Tamanhos de Batch:**  \n",
    "   - **Batch Size: 16:** Treinamento mais rápido e eficiente em termos de tempo.  \n",
    "   - **Batch Size: 32:** Apesar do tempo por época ser similar, a taxa de aprendizado não mudou a perda.\n",
    "\n",
    "3. **Conclusão:**  \n",
    "   - O modelo pode precisar de uma taxa de aprendizado maior ou modificações na arquitetura.  \n",
    "   - A perda constante sugere que os hiperparâmetros ajustados não impactaram o desempenho significativamente.\n"
   ]
  },
  {
   "cell_type": "code",
   "execution_count": null,
   "id": "878d159f-e99c-44f9-a4e1-e5752f6af720",
   "metadata": {},
   "outputs": [],
   "source": []
  },
  {
   "cell_type": "markdown",
   "id": "86321e2f-f2e5-4463-a4c6-f61ea234378a",
   "metadata": {},
   "source": [
    "### #C Teste de Hiperparâmetros com Random Search\n",
    "\n",
    "O código abaixo realiza testes automáticos para ajustar dois hiperparâmetros importantes do modelo: a **taxa de aprendizado (`lr`)** e o **tamanho do batch (`batch_size`)**. O objetivo é identificar as combinações que otimizam o treinamento do modelo, reduzindo a perda média e melhorando a performance geral.\n",
    "\n",
    "#### O que o código faz:\n",
    "- Escolhe combinações aleatórias de `lr` e `batch_size` dentro de intervalos definidos.\n",
    "- Realiza o treinamento do modelo para cada combinação.\n",
    "- Imprime a perda média final ao término de cada teste, permitindo uma comparação direta entre as combinações testadas.\n",
    "\n",
    "#### Por que isso é importante:\n",
    "- Ajustar a taxa de aprendizado impacta diretamente a velocidade e estabilidade do aprendizado do modelo.\n",
    "- Definir o tamanho ideal do batch evita problemas de memória GPU e garante uma atualização eficiente dos pesos.\n",
    "- Esse processo automatizado evita ajustes manuais e ajuda a encontrar a melhor configuração para o modelo.\n",
    "\n",
    "#### Próximos passos:\n",
    "- Após identificar a melhor combinação, ela poderá ser utilizada para realizar um treinamento completo no modelo.\n",
    "- Os resultados obtidos podem ser comparados e armazenados para futuras análises.\n",
    "\n"
   ]
  },
  {
   "cell_type": "code",
   "execution_count": 25,
   "id": "4818bf59-54fb-4634-b1f8-e9aa67d2971d",
   "metadata": {},
   "outputs": [
    {
     "name": "stdout",
     "output_type": "stream",
     "text": [
      "Treinando com LR: 0.003432, Batch Size: 8\n",
      "[INFO] Iniciando treinamento...\n",
      "\n",
      "Época     Perda Média    Tempo (s) \n",
      "-----------------------------------\n"
     ]
    },
    {
     "name": "stderr",
     "output_type": "stream",
     "text": [
      "\n",
      "reinando Época 1/5: 100%|██████████| 125/125 [00:08<00:00, 15.10batch/s]"
     ]
    },
    {
     "name": "stdout",
     "output_type": "stream",
     "text": [
      "1         0.6940         8.28      \n"
     ]
    },
    {
     "name": "stderr",
     "output_type": "stream",
     "text": [
      "\n",
      "reinando Época 2/5: 100%|██████████| 125/125 [00:08<00:00, 15.31batch/s]"
     ]
    },
    {
     "name": "stdout",
     "output_type": "stream",
     "text": [
      "2         0.6936         8.17      \n"
     ]
    },
    {
     "name": "stderr",
     "output_type": "stream",
     "text": [
      "\n",
      "reinando Época 3/5: 100%|██████████| 125/125 [00:08<00:00, 15.19batch/s]"
     ]
    },
    {
     "name": "stdout",
     "output_type": "stream",
     "text": [
      "3         0.6936         8.23      \n"
     ]
    },
    {
     "name": "stderr",
     "output_type": "stream",
     "text": [
      "\n",
      "reinando Época 4/5: 100%|██████████| 125/125 [00:08<00:00, 15.16batch/s]"
     ]
    },
    {
     "name": "stdout",
     "output_type": "stream",
     "text": [
      "4         0.6936         8.25      \n"
     ]
    },
    {
     "name": "stderr",
     "output_type": "stream",
     "text": [
      "\n",
      "reinando Época 5/5: 100%|██████████| 125/125 [00:08<00:00, 14.83batch/s]"
     ]
    },
    {
     "name": "stdout",
     "output_type": "stream",
     "text": [
      "5         0.6935         8.43      \n",
      "\n",
      "[INFO] Treinamento concluído!\n",
      "Treinando com LR: 0.006628, Batch Size: 16\n",
      "[INFO] Iniciando treinamento...\n",
      "\n",
      "Época     Perda Média    Tempo (s) \n",
      "-----------------------------------\n"
     ]
    },
    {
     "name": "stderr",
     "output_type": "stream",
     "text": [
      "\n",
      "reinando Época 1/5: 100%|██████████| 63/63 [00:07<00:00,  8.72batch/s]"
     ]
    },
    {
     "name": "stdout",
     "output_type": "stream",
     "text": [
      "1         0.6937         7.23      \n"
     ]
    },
    {
     "name": "stderr",
     "output_type": "stream",
     "text": [
      "\n",
      "reinando Época 2/5: 100%|██████████| 63/63 [00:07<00:00,  8.72batch/s]"
     ]
    },
    {
     "name": "stdout",
     "output_type": "stream",
     "text": [
      "2         0.6935         7.23      \n"
     ]
    },
    {
     "name": "stderr",
     "output_type": "stream",
     "text": [
      "\n",
      "reinando Época 3/5: 100%|██████████| 63/63 [00:07<00:00,  8.60batch/s]"
     ]
    },
    {
     "name": "stdout",
     "output_type": "stream",
     "text": [
      "3         0.6934         7.33      \n"
     ]
    },
    {
     "name": "stderr",
     "output_type": "stream",
     "text": [
      "\n",
      "reinando Época 4/5: 100%|██████████| 63/63 [00:07<00:00,  8.59batch/s]"
     ]
    },
    {
     "name": "stdout",
     "output_type": "stream",
     "text": [
      "4         0.6939         7.34      \n"
     ]
    },
    {
     "name": "stderr",
     "output_type": "stream",
     "text": [
      "\n",
      "reinando Época 5/5: 100%|██████████| 63/63 [00:07<00:00,  8.57batch/s]"
     ]
    },
    {
     "name": "stdout",
     "output_type": "stream",
     "text": [
      "5         0.6934         7.36      \n",
      "\n",
      "[INFO] Treinamento concluído!\n",
      "Treinando com LR: 0.002919, Batch Size: 4\n",
      "[INFO] Iniciando treinamento...\n",
      "\n",
      "Época     Perda Média    Tempo (s) \n",
      "-----------------------------------\n"
     ]
    },
    {
     "name": "stderr",
     "output_type": "stream",
     "text": [
      "\n",
      "reinando Época 1/5: 100%|██████████| 250/250 [00:11<00:00, 22.15batch/s]"
     ]
    },
    {
     "name": "stdout",
     "output_type": "stream",
     "text": [
      "1         0.6935         11.29     \n"
     ]
    },
    {
     "name": "stderr",
     "output_type": "stream",
     "text": [
      "\n",
      "reinando Época 2/5: 100%|██████████| 250/250 [00:11<00:00, 22.10batch/s]"
     ]
    },
    {
     "name": "stdout",
     "output_type": "stream",
     "text": [
      "2         0.6934         11.32     \n"
     ]
    },
    {
     "name": "stderr",
     "output_type": "stream",
     "text": [
      "\n",
      "reinando Época 3/5: 100%|██████████| 250/250 [00:11<00:00, 22.31batch/s]"
     ]
    },
    {
     "name": "stdout",
     "output_type": "stream",
     "text": [
      "3         0.6940         11.21     \n"
     ]
    },
    {
     "name": "stderr",
     "output_type": "stream",
     "text": [
      "\n",
      "reinando Época 4/5: 100%|██████████| 250/250 [00:11<00:00, 22.20batch/s]"
     ]
    },
    {
     "name": "stdout",
     "output_type": "stream",
     "text": [
      "4         0.6938         11.26     \n"
     ]
    },
    {
     "name": "stderr",
     "output_type": "stream",
     "text": [
      "\n",
      "reinando Época 5/5: 100%|██████████| 250/250 [00:11<00:00, 22.14batch/s]"
     ]
    },
    {
     "name": "stdout",
     "output_type": "stream",
     "text": [
      "5         0.6939         11.29     \n",
      "\n",
      "[INFO] Treinamento concluído!\n",
      "Treinando com LR: 0.000272, Batch Size: 4\n",
      "[INFO] Iniciando treinamento...\n",
      "\n",
      "Época     Perda Média    Tempo (s) \n",
      "-----------------------------------\n"
     ]
    },
    {
     "name": "stderr",
     "output_type": "stream",
     "text": [
      "\n",
      "reinando Época 1/5: 100%|██████████| 250/250 [00:11<00:00, 22.26batch/s]"
     ]
    },
    {
     "name": "stdout",
     "output_type": "stream",
     "text": [
      "1         0.6933         11.23     \n"
     ]
    },
    {
     "name": "stderr",
     "output_type": "stream",
     "text": [
      "\n",
      "reinando Época 2/5: 100%|██████████| 250/250 [00:11<00:00, 22.22batch/s]"
     ]
    },
    {
     "name": "stdout",
     "output_type": "stream",
     "text": [
      "2         0.6932         11.25     \n"
     ]
    },
    {
     "name": "stderr",
     "output_type": "stream",
     "text": [
      "\n",
      "reinando Época 3/5: 100%|██████████| 250/250 [00:11<00:00, 22.25batch/s]"
     ]
    },
    {
     "name": "stdout",
     "output_type": "stream",
     "text": [
      "3         0.6933         11.24     \n"
     ]
    },
    {
     "name": "stderr",
     "output_type": "stream",
     "text": [
      "\n",
      "reinando Época 4/5: 100%|██████████| 250/250 [00:11<00:00, 22.17batch/s]"
     ]
    },
    {
     "name": "stdout",
     "output_type": "stream",
     "text": [
      "4         0.6932         11.28     \n"
     ]
    },
    {
     "name": "stderr",
     "output_type": "stream",
     "text": [
      "\n",
      "reinando Época 5/5: 100%|██████████| 250/250 [00:11<00:00, 22.19batch/s]"
     ]
    },
    {
     "name": "stdout",
     "output_type": "stream",
     "text": [
      "5         0.6932         11.27     \n",
      "\n",
      "[INFO] Treinamento concluído!\n",
      "Treinando com LR: 0.009085, Batch Size: 4\n",
      "[INFO] Iniciando treinamento...\n",
      "\n",
      "Época     Perda Média    Tempo (s) \n",
      "-----------------------------------\n"
     ]
    },
    {
     "name": "stderr",
     "output_type": "stream",
     "text": [
      "\n",
      "reinando Época 1/5: 100%|██████████| 250/250 [00:11<00:00, 22.21batch/s]"
     ]
    },
    {
     "name": "stdout",
     "output_type": "stream",
     "text": [
      "1         0.6947         11.26     \n"
     ]
    },
    {
     "name": "stderr",
     "output_type": "stream",
     "text": [
      "\n",
      "reinando Época 2/5: 100%|██████████| 250/250 [00:11<00:00, 22.21batch/s]"
     ]
    },
    {
     "name": "stdout",
     "output_type": "stream",
     "text": [
      "2         0.6943         11.26     \n"
     ]
    },
    {
     "name": "stderr",
     "output_type": "stream",
     "text": [
      "\n",
      "reinando Época 3/5: 100%|██████████| 250/250 [00:11<00:00, 21.96batch/s]"
     ]
    },
    {
     "name": "stdout",
     "output_type": "stream",
     "text": [
      "3         0.6941         11.39     \n"
     ]
    },
    {
     "name": "stderr",
     "output_type": "stream",
     "text": [
      "\n",
      "reinando Época 4/5: 100%|██████████| 250/250 [00:11<00:00, 22.02batch/s]"
     ]
    },
    {
     "name": "stdout",
     "output_type": "stream",
     "text": [
      "4         0.6950         11.36     \n"
     ]
    },
    {
     "name": "stderr",
     "output_type": "stream",
     "text": [
      "\n",
      "reinando Época 5/5: 100%|██████████| 250/250 [00:11<00:00, 22.04batch/s]"
     ]
    },
    {
     "name": "stdout",
     "output_type": "stream",
     "text": [
      "5         0.6944         11.35     \n",
      "\n",
      "[INFO] Treinamento concluído!\n",
      "Treinando com LR: 0.003272, Batch Size: 16\n",
      "[INFO] Iniciando treinamento...\n",
      "\n",
      "Época     Perda Média    Tempo (s) \n",
      "-----------------------------------\n"
     ]
    },
    {
     "name": "stderr",
     "output_type": "stream",
     "text": [
      "\n",
      "reinando Época 1/5: 100%|██████████| 63/63 [00:07<00:00,  8.42batch/s]"
     ]
    },
    {
     "name": "stdout",
     "output_type": "stream",
     "text": [
      "1         0.6935         7.49      \n"
     ]
    },
    {
     "name": "stderr",
     "output_type": "stream",
     "text": [
      "\n",
      "reinando Época 2/5: 100%|██████████| 63/63 [00:07<00:00,  8.42batch/s]"
     ]
    },
    {
     "name": "stdout",
     "output_type": "stream",
     "text": [
      "2         0.6936         7.49      \n"
     ]
    },
    {
     "name": "stderr",
     "output_type": "stream",
     "text": [
      "\n",
      "reinando Época 3/5: 100%|██████████| 63/63 [00:07<00:00,  8.41batch/s]"
     ]
    },
    {
     "name": "stdout",
     "output_type": "stream",
     "text": [
      "3         0.6936         7.49      \n"
     ]
    },
    {
     "name": "stderr",
     "output_type": "stream",
     "text": [
      "\n",
      "reinando Época 4/5: 100%|██████████| 63/63 [00:07<00:00,  8.43batch/s]"
     ]
    },
    {
     "name": "stdout",
     "output_type": "stream",
     "text": [
      "4         0.6934         7.47      \n"
     ]
    },
    {
     "name": "stderr",
     "output_type": "stream",
     "text": [
      "\n",
      "reinando Época 5/5: 100%|██████████| 63/63 [00:07<00:00,  8.44batch/s]"
     ]
    },
    {
     "name": "stdout",
     "output_type": "stream",
     "text": [
      "5         0.6933         7.47      \n",
      "\n",
      "[INFO] Treinamento concluído!\n",
      "Treinando com LR: 0.008363, Batch Size: 16\n",
      "[INFO] Iniciando treinamento...\n",
      "\n",
      "Época     Perda Média    Tempo (s) \n",
      "-----------------------------------\n"
     ]
    },
    {
     "name": "stderr",
     "output_type": "stream",
     "text": [
      "\n",
      "reinando Época 1/5: 100%|██████████| 63/63 [00:07<00:00,  8.40batch/s]"
     ]
    },
    {
     "name": "stdout",
     "output_type": "stream",
     "text": [
      "1         0.6936         7.50      \n"
     ]
    },
    {
     "name": "stderr",
     "output_type": "stream",
     "text": [
      "\n",
      "reinando Época 2/5: 100%|██████████| 63/63 [00:07<00:00,  8.51batch/s]"
     ]
    },
    {
     "name": "stdout",
     "output_type": "stream",
     "text": [
      "2         0.6941         7.41      \n"
     ]
    },
    {
     "name": "stderr",
     "output_type": "stream",
     "text": [
      "\n",
      "reinando Época 3/5: 100%|██████████| 63/63 [00:07<00:00,  8.37batch/s]"
     ]
    },
    {
     "name": "stdout",
     "output_type": "stream",
     "text": [
      "3         0.6938         7.53      \n"
     ]
    },
    {
     "name": "stderr",
     "output_type": "stream",
     "text": [
      "\n",
      "reinando Época 4/5: 100%|██████████| 63/63 [00:07<00:00,  8.43batch/s]"
     ]
    },
    {
     "name": "stdout",
     "output_type": "stream",
     "text": [
      "4         0.6936         7.48      \n"
     ]
    },
    {
     "name": "stderr",
     "output_type": "stream",
     "text": [
      "\n",
      "reinando Época 5/5: 100%|██████████| 63/63 [00:07<00:00,  8.41batch/s]"
     ]
    },
    {
     "name": "stdout",
     "output_type": "stream",
     "text": [
      "5         0.6944         7.50      \n",
      "\n",
      "[INFO] Treinamento concluído!\n",
      "Treinando com LR: 0.004155, Batch Size: 8\n",
      "[INFO] Iniciando treinamento...\n",
      "\n",
      "Época     Perda Média    Tempo (s) \n",
      "-----------------------------------\n"
     ]
    },
    {
     "name": "stderr",
     "output_type": "stream",
     "text": [
      "\n",
      "reinando Época 1/5: 100%|██████████| 125/125 [00:08<00:00, 14.09batch/s]"
     ]
    },
    {
     "name": "stdout",
     "output_type": "stream",
     "text": [
      "1         0.6937         8.88      \n"
     ]
    },
    {
     "name": "stderr",
     "output_type": "stream",
     "text": [
      "\n",
      "reinando Época 2/5: 100%|██████████| 125/125 [00:08<00:00, 14.32batch/s]"
     ]
    },
    {
     "name": "stdout",
     "output_type": "stream",
     "text": [
      "2         0.6940         8.73      \n"
     ]
    },
    {
     "name": "stderr",
     "output_type": "stream",
     "text": [
      "\n",
      "reinando Época 3/5: 100%|██████████| 125/125 [00:08<00:00, 14.49batch/s]"
     ]
    },
    {
     "name": "stdout",
     "output_type": "stream",
     "text": [
      "3         0.6934         8.63      \n"
     ]
    },
    {
     "name": "stderr",
     "output_type": "stream",
     "text": [
      "\n",
      "reinando Época 4/5: 100%|██████████| 125/125 [00:08<00:00, 14.28batch/s]"
     ]
    },
    {
     "name": "stdout",
     "output_type": "stream",
     "text": [
      "4         0.6937         8.76      \n"
     ]
    },
    {
     "name": "stderr",
     "output_type": "stream",
     "text": [
      "\n",
      "reinando Época 5/5: 100%|██████████| 125/125 [00:08<00:00, 14.40batch/s]"
     ]
    },
    {
     "name": "stdout",
     "output_type": "stream",
     "text": [
      "5         0.6939         8.68      \n",
      "\n",
      "[INFO] Treinamento concluído!\n",
      "Treinando com LR: 0.007940, Batch Size: 16\n",
      "[INFO] Iniciando treinamento...\n",
      "\n",
      "Época     Perda Média    Tempo (s) \n",
      "-----------------------------------\n"
     ]
    },
    {
     "name": "stderr",
     "output_type": "stream",
     "text": [
      "\n",
      "reinando Época 1/5: 100%|██████████| 63/63 [00:07<00:00,  8.49batch/s]"
     ]
    },
    {
     "name": "stdout",
     "output_type": "stream",
     "text": [
      "1         0.6937         7.43      \n"
     ]
    },
    {
     "name": "stderr",
     "output_type": "stream",
     "text": [
      "\n",
      "reinando Época 2/5: 100%|██████████| 63/63 [00:07<00:00,  8.46batch/s]"
     ]
    },
    {
     "name": "stdout",
     "output_type": "stream",
     "text": [
      "2         0.6945         7.45      \n"
     ]
    },
    {
     "name": "stderr",
     "output_type": "stream",
     "text": [
      "\n",
      "reinando Época 3/5: 100%|██████████| 63/63 [00:07<00:00,  8.52batch/s]"
     ]
    },
    {
     "name": "stdout",
     "output_type": "stream",
     "text": [
      "3         0.6935         7.40      \n"
     ]
    },
    {
     "name": "stderr",
     "output_type": "stream",
     "text": [
      "\n",
      "reinando Época 4/5: 100%|██████████| 63/63 [00:07<00:00,  8.58batch/s]"
     ]
    },
    {
     "name": "stdout",
     "output_type": "stream",
     "text": [
      "4         0.6936         7.34      \n"
     ]
    },
    {
     "name": "stderr",
     "output_type": "stream",
     "text": [
      "\n",
      "reinando Época 5/5: 100%|██████████| 63/63 [00:07<00:00,  8.44batch/s]"
     ]
    },
    {
     "name": "stdout",
     "output_type": "stream",
     "text": [
      "5         0.6938         7.47      \n",
      "\n",
      "[INFO] Treinamento concluído!\n",
      "Treinando com LR: 0.005225, Batch Size: 8\n",
      "[INFO] Iniciando treinamento...\n",
      "\n",
      "Época     Perda Média    Tempo (s) \n",
      "-----------------------------------\n"
     ]
    },
    {
     "name": "stderr",
     "output_type": "stream",
     "text": [
      "\n",
      "reinando Época 1/5: 100%|██████████| 125/125 [00:08<00:00, 14.53batch/s]"
     ]
    },
    {
     "name": "stdout",
     "output_type": "stream",
     "text": [
      "1         0.6943         8.61      \n"
     ]
    },
    {
     "name": "stderr",
     "output_type": "stream",
     "text": [
      "\n",
      "reinando Época 2/5: 100%|██████████| 125/125 [00:08<00:00, 14.41batch/s]"
     ]
    },
    {
     "name": "stdout",
     "output_type": "stream",
     "text": [
      "2         0.6937         8.68      \n"
     ]
    },
    {
     "name": "stderr",
     "output_type": "stream",
     "text": [
      "\n",
      "reinando Época 3/5: 100%|██████████| 125/125 [00:08<00:00, 14.55batch/s]"
     ]
    },
    {
     "name": "stdout",
     "output_type": "stream",
     "text": [
      "3         0.6936         8.60      \n"
     ]
    },
    {
     "name": "stderr",
     "output_type": "stream",
     "text": [
      "\n",
      "reinando Época 4/5: 100%|██████████| 125/125 [00:08<00:00, 14.31batch/s]"
     ]
    },
    {
     "name": "stdout",
     "output_type": "stream",
     "text": [
      "4         0.6939         8.74      \n"
     ]
    },
    {
     "name": "stderr",
     "output_type": "stream",
     "text": [
      "Treinando Época 5/5: 100%|██████████| 125/125 [00:08<00:00, 14.50batch/s]"
     ]
    },
    {
     "name": "stdout",
     "output_type": "stream",
     "text": [
      "5         0.6943         8.62      \n",
      "\n",
      "[INFO] Treinamento concluído!\n"
     ]
    },
    {
     "name": "stderr",
     "output_type": "stream",
     "text": [
      "\n"
     ]
    }
   ],
   "source": [
    "#c Random Search\n",
    "import random\n",
    "import torch\n",
    "\n",
    "for _ in range(10):  # Testar 10 combinações aleatórias\n",
    "    lr = random.uniform(0.0001, 0.01)\n",
    "    batch_size = random.choice([4, 8, 16])  # Reduzir batch_size para economizar memória\n",
    "    print(f\"Treinando com LR: {lr:.6f}, Batch Size: {batch_size}\")\n",
    "    \n",
    "    optimizer = torch.optim.Adam(model.parameters(), lr=lr)\n",
    "    \n",
    "    # Liberar memória antes de criar DataLoader\n",
    "    torch.cuda.empty_cache()\n",
    "    \n",
    "    data_loader = DataLoader(tensor_dataset, batch_size=batch_size, shuffle=True)\n",
    "    treinar_modelo(model, data_loader, criterion, optimizer)\n",
    "\n"
   ]
  },
  {
   "cell_type": "markdown",
   "id": "468f373b-4f62-471c-b163-c620645add5e",
   "metadata": {},
   "source": [
    "### Resultados dos Testes de Hiperparâmetros\n",
    "\n",
    "Os testes de **taxa de aprendizado (`LR`)** e **tamanho do batch (`Batch Size`)** foram realizados para diferentes combinações. Abaixo estão os resultados organizados para análise:\n",
    "\n",
    "#### Estrutura dos Resultados:\n",
    "- Cada combinação de `LR` e `Batch Size` inicia com o treinamento do modelo.\n",
    "- A tabela exibe:\n",
    "  - Perda média ao final de cada época.\n",
    "  - Tempo necessário para completar cada época.\n",
    "- O desempenho geral para cada combinação é analisado com base na estabilização ou redução da perda média.\n",
    "\n",
    "#### Observações:\n",
    "- **Taxa de aprendizado (`LR`)**:\n",
    "  - Valores mais altos tendem a convergir mais rápido, mas podem gerar instabilidade.\n",
    "  - Valores muito baixos podem resultar em aprendizado lento ou ausência de convergência.\n",
    "- **Tamanho do batch**:\n",
    "  - Batches menores tendem a oferecer maior variabilidade nos gradientes, o que pode ajudar o modelo a sair de mínimos locais.\n",
    "  - Batches maiores são mais estáveis, mas podem consumir mais memória GPU, resultando em erros de \"Out of Memory\" (OOM).\n",
    "\n",
    "#### Próximos Passos:\n",
    "- Identificar a combinação que oferece a menor perda média dentro de um tempo razoável.\n",
    "- Realizar mais testes nas melhores combinações para validar os resultados.\n",
    "- Ajustar o modelo e treinar com o conjunto de dados completo usando os hiperparâmetros identificados.\n",
    "\n",
    "#### Tabela de Análise (Resultados do Output):\n",
    "- `LR: 0.003432, Batch Size: 8`  | **Perda média** estabilizou em torno de `0.6935` após 5 épocas | **Tempo por época**: ~8.2 segundos.\n",
    "\n",
    "\n",
    "- `LR: 0.006628, Batch Size: 16` | **Perda média** estabilizou em torno de `0.6934` | **Tempo por época**: ~7.3 segundos.\n",
    "\n",
    "\n",
    "- `LR: 0.002919, Batch Size: 4` | **Perda média** estabilizou em torno de `0.6939` | **Tempo por época**: ~11.3 segundos.\n",
    "\n",
    "\n",
    "- `LR: 0.000272, Batch Size: 4` | **Perda média** estabilizou em torno de `0.6932` | **Tempo por época**: ~11.2 segundos.\n",
    "\n",
    "#### Conclusão:\n",
    "Com base nos resultados acima, é possível refinar os hiperparâmetros:\n",
    "1. **Batch Size** de 16 oferece tempos mais rápidos (~7.3 segundos) e estabilidade.\n",
    "2. **Taxa de aprendizado** na faixa de `0.002 - 0.006` é promissora, mas precisa de ajustes finos.\n"
   ]
  },
  {
   "cell_type": "code",
   "execution_count": null,
   "id": "ce74fe9e-fdcf-4a7a-a283-5ae48ce5a34f",
   "metadata": {},
   "outputs": [],
   "source": []
  }
 ],
 "metadata": {
  "kernelspec": {
   "display_name": "Python (jupyter_env_310)",
   "language": "python",
   "name": "jupyter_env_310"
  },
  "language_info": {
   "codemirror_mode": {
    "name": "ipython",
    "version": 3
   },
   "file_extension": ".py",
   "mimetype": "text/x-python",
   "name": "python",
   "nbconvert_exporter": "python",
   "pygments_lexer": "ipython3",
   "version": "3.10.16"
  }
 },
 "nbformat": 4,
 "nbformat_minor": 5
}
